{
 "cells": [
  {
   "cell_type": "code",
   "execution_count": null,
   "metadata": {},
   "outputs": [],
   "source": [
    "Question 1.\n",
    "\n",
    "There will be total n*m terms in the result matrix. \n",
    "For any term we do k multiplication (because there are k elements in a row of the first matrix\n",
    "and k elements in the column of the second matrix)\n",
    "and k-1 additions(now we add all the k terms we get after multiplication). \n",
    "So in total for getting all terms of resultant matrix we did n*m *k multiplication and n*m*(k-1) additions.\n"
   ]
  },
  {
   "cell_type": "code",
   "execution_count": 1,
   "metadata": {},
   "outputs": [
    {
     "name": "stdout",
     "output_type": "stream",
     "text": [
      "2\n",
      "2\n",
      "2\n",
      "[[1, 2], [1, 2]] [[1, 2], [1, 2]]\n",
      "[[3, 6], [3, 6]]\n",
      "time taken:  34.54671335220337\n"
     ]
    }
   ],
   "source": [
    "# Question 2. using list of lists\n",
    "\n",
    "import time\n",
    "\n",
    "start_time = time.time()\n",
    "\n",
    "n = int(input())\n",
    "k = int(input())\n",
    "m = int(input())\n",
    "A = list()\n",
    "B = list()\n",
    "\n",
    "for i in range(n):\n",
    "    temp = list()\n",
    "    for j in range(k):\n",
    "        temp.append(j+1)\n",
    "    A.append(temp)\n",
    "\n",
    "for i in range(k):\n",
    "    temp = list()\n",
    "    for j in range(m):\n",
    "        temp.append(j+1)\n",
    "    B.append(temp)\n",
    "print(A,B)\n",
    "\n",
    "# resultant matrix with each term 0\n",
    "resultant = list()\n",
    "for i in range(n):\n",
    "    temp = list()\n",
    "    for j in range(m):\n",
    "        temp.append(0)\n",
    "    resultant.append(temp)\n",
    "\n",
    "# multiplication of matrix\n",
    "for i in range(n):\n",
    "    for j in range(m):\n",
    "        for t in range(k):\n",
    "            resultant[i][j] += A[i][t]*B[t][j]\n",
    "print(resultant)\n",
    "\n",
    "end_time = time.time()\n",
    "\n",
    "time_taken = end_time-start_time\n",
    "\n",
    "print(\"time taken: \", time_taken)"
   ]
  },
  {
   "cell_type": "code",
   "execution_count": null,
   "metadata": {},
   "outputs": [],
   "source": [
    "# Question 2. using numpy\n",
    "\n",
    "import numpy as np\n",
    "import time\n",
    "\n",
    "start_time = time.time()\n",
    "\n",
    "n = int(input())\n",
    "k = int(input())\n",
    "m = int(input())\n",
    "A = np.matrix(np.zeros((n, k)))\n",
    "B = np.matrix(np.zeros((k, m)))\n",
    "resultant =  np.matrix(np.zeros((n, m)))\n",
    "\n",
    "print(A,B)\n",
    "print(resultant)\n",
    "\n",
    "for i in range(n):\n",
    "    for j in range(k):\n",
    "        A[i,j] = j+1\n",
    "\n",
    "for i in range(k):\n",
    "    for j in range(m):\n",
    "        B[i,j] = j+1\n",
    "print(A,B)\n",
    "\n",
    "resultant = np.dot(A,B)\n",
    "print(resultant)\n",
    "\n",
    "end_time = time.time()\n",
    "\n",
    "time_taken = end_time-start_time\n",
    "\n",
    "print(\"time taken: \", time_taken)"
   ]
  },
  {
   "cell_type": "code",
   "execution_count": 10,
   "metadata": {
    "scrolled": true
   },
   "outputs": [
    {
     "name": "stdout",
     "output_type": "stream",
     "text": [
      "6\n",
      "using method, median is:  38.5\n",
      "using inbuilt function, median is:  38.5\n"
     ]
    }
   ],
   "source": [
    "# Question 3.\n",
    "import sys\n",
    "import random\n",
    "import numpy as np  \n",
    "\n",
    "# using method as per question\n",
    "\n",
    "# function to find maximum value in list\n",
    "def max_val(temp):\n",
    "    l = len(temp)\n",
    "    ans = -sys.maxsize - 1\n",
    "    for x in temp:\n",
    "        ans = max(ans,x)\n",
    "    return ans\n",
    "\n",
    "# size of list\n",
    "n = int(input()) \n",
    "li = list()\n",
    "\n",
    "for i in range(n):\n",
    "    li.append(random.randint(1,100))\n",
    "\n",
    "temp = li.copy()\n",
    "median = 0\n",
    "\n",
    "if (n%2 != 0):\n",
    "    for i in range(int((n+1)/2)):\n",
    "        median = max_val(temp)\n",
    "        temp.remove(median)\n",
    "    print(median)\n",
    "    \n",
    "else:\n",
    "    median1 = 0\n",
    "    median2 = 0\n",
    "    for i in range(int(n/2)):\n",
    "        median1 = max_val(temp)\n",
    "        temp.remove(median1)\n",
    "    median2 = max_val(temp)\n",
    "    median = (median1 + median2)/2\n",
    "    print(\"using method, median is: \",median)\n",
    "\n",
    "# using inbuilt function\n",
    "median = np.median(li)\n",
    "print(\"using inbuilt function, median is: \",median)"
   ]
  },
  {
   "cell_type": "code",
   "execution_count": 14,
   "metadata": {
    "scrolled": false
   },
   "outputs": [
    {
     "data": {
      "image/png": "[encoded data removed]",
      "text/plain": [
       "<Figure size 432x288 with 1 Axes>"
      ]
     },
     "metadata": {
      "needs_background": "light"
     },
     "output_type": "display_data"
    }
   ],
   "source": [
    "# Question 9(1)\n",
    "import matplotlib.pyplot as plt\n",
    "import numpy as np\n",
    "\n",
    "x = np.arange(0.5, 100.0, 0.5)\n",
    "y = x\n",
    "\n",
    "plt.plot(x, y)\n",
    "plt.show()"
   ]
  },
  {
   "cell_type": "code",
   "execution_count": 15,
   "metadata": {},
   "outputs": [
    {
     "data": {
      "image/png": "[encoded data removed]",
      "text/plain": [
       "<Figure size 432x288 with 1 Axes>"
      ]
     },
     "metadata": {
      "needs_background": "light"
     },
     "output_type": "display_data"
    }
   ],
   "source": [
    "# Question 9(2)\n",
    "import matplotlib.pyplot as plt\n",
    "import numpy as np\n",
    "\n",
    "x = np.arange(0.5, 100.0, 0.5)\n",
    "y = x ** 2\n",
    "\n",
    "plt.plot(x, y)\n",
    "plt.show()"
   ]
  },
  {
   "cell_type": "code",
   "execution_count": 16,
   "metadata": {},
   "outputs": [
    {
     "data": {
      "image/png": "[encoded data removed]",
      "text/plain": [
       "<Figure size 432x288 with 1 Axes>"
      ]
     },
     "metadata": {
      "needs_background": "light"
     },
     "output_type": "display_data"
    }
   ],
   "source": [
    "# Question 9(3)\n",
    "import matplotlib.pyplot as plt\n",
    "import numpy as np\n",
    "\n",
    "x = np.arange(0.5, 100.0, 0.5)\n",
    "y = (x ** 3)/100\n",
    "\n",
    "plt.plot(x, y)\n",
    "plt.show()"
   ]
  },
  {
   "cell_type": "code",
   "execution_count": 20,
   "metadata": {},
   "outputs": [
    {
     "data": {
      "image/png": "[encoded data removed]",
      "text/plain": [
       "<Figure size 432x288 with 1 Axes>"
      ]
     },
     "metadata": {
      "needs_background": "light"
     },
     "output_type": "display_data"
    }
   ],
   "source": [
    "# Question 9(4)\n",
    "import matplotlib.pyplot as plt\n",
    "import numpy as np\n",
    "\n",
    "\n",
    "x = np.arange(0.5, 100.0, 0.5)\n",
    "y = np.sin(x)\n",
    "\n",
    "plt.plot(x, y)\n",
    "plt.show()"
   ]
  },
  {
   "cell_type": "code",
   "execution_count": 21,
   "metadata": {},
   "outputs": [
    {
     "data": {
      "image/png": "[encoded data removed]",
      "text/plain": [
       "<Figure size 432x288 with 1 Axes>"
      ]
     },
     "metadata": {
      "needs_background": "light"
     },
     "output_type": "display_data"
    }
   ],
   "source": [
    "# Question 9(5)\n",
    "import matplotlib.pyplot as plt\n",
    "import numpy as np\n",
    "\n",
    "\n",
    "x = np.arange(0.5, 100.0, 0.5)\n",
    "y = (np.sin(x))/x\n",
    "\n",
    "plt.plot(x, y)\n",
    "plt.show()"
   ]
  },
  {
   "cell_type": "code",
   "execution_count": 22,
   "metadata": {},
   "outputs": [
    {
     "data": {
      "image/png": "[encoded data removed]",
      "text/plain": [
       "<Figure size 432x288 with 1 Axes>"
      ]
     },
     "metadata": {
      "needs_background": "light"
     },
     "output_type": "display_data"
    }
   ],
   "source": [
    "# Question 9(6)\n",
    "import matplotlib.pyplot as plt\n",
    "import numpy as np\n",
    "\n",
    "\n",
    "x = np.arange(0.5, 100.0, 0.5)\n",
    "y = np.log(x)\n",
    "\n",
    "plt.plot(x, y)\n",
    "plt.show()"
   ]
  },
  {
   "cell_type": "code",
   "execution_count": 23,
   "metadata": {},
   "outputs": [
    {
     "data": {
      "image/png": "[encoded data removed]",
      "text/plain": [
       "<Figure size 432x288 with 1 Axes>"
      ]
     },
     "metadata": {
      "needs_background": "light"
     },
     "output_type": "display_data"
    }
   ],
   "source": [
    "# Question 9(7)\n",
    "import matplotlib.pyplot as plt\n",
    "import numpy as np\n",
    "\n",
    "\n",
    "x = np.arange(0.5, 100.0, 0.5)\n",
    "y = np.exp(x)\n",
    "\n",
    "plt.plot(x, y)\n",
    "plt.show()"
   ]
  },
  {
   "cell_type": "code",
   "execution_count": null,
   "metadata": {},
   "outputs": [],
   "source": [
    "# Question 7. \n",
    "\n",
    "def add_data():\n",
    "\n",
    "    year = int(input())\n",
    "    branch = input()\n",
    "    roll_no = int(input())\n",
    "    name = input()\n",
    "    sub_cnt = int(input())\n",
    "    \n",
    "    # made structure for to update\n",
    "    df.update({year:{\n",
    "        branch:{\n",
    "            roll_no:{\n",
    "                name:{\n",
    "                    \"Marks\":{}\n",
    "                }\n",
    "            }\n",
    "        }\n",
    "    }})\n",
    "        \n",
    "    for i in range(sub_cnt):\n",
    "        # x is the sourse name and y is the grade of the subject\n",
    "        x = input()    \n",
    "        y = int(input())\n",
    "        (df[year][branch][roll_no][name][\"Marks\"]).update({x:y})\n",
    "\n",
    "        \n",
    "df = {}\n",
    "add_data()"
   ]
  },
  {
   "cell_type": "code",
   "execution_count": 2,
   "metadata": {},
   "outputs": [
    {
     "name": "stdout",
     "output_type": "stream",
     "text": [
      "[[1.59713396 1.24195889 1.27022346 1.34697752 1.9050938 ]\n",
      " [1.47336791 1.03729598 1.62907469 1.32458539 1.15076087]\n",
      " [1.90624247 1.21191944 1.14463142 1.45179037 1.75624191]\n",
      " [1.33813875 1.3062356  1.35551302 1.20409493 1.73824517]\n",
      " [1.92117117 1.40783441 1.51227961 1.59435192 1.67365798]\n",
      " [1.89022734 1.25563859 1.63340464 1.86351759 1.01244952]\n",
      " [1.57725305 1.91611872 1.4356189  1.05879223 1.51942228]\n",
      " [1.16772575 1.33474218 1.45089066 1.55083285 1.26435623]\n",
      " [1.33918346 1.03678098 1.71040167 1.06092562 1.46723979]\n",
      " [1.93444991 1.35148846 1.4420367  1.06290451 1.89277044]\n",
      " [1.11964396 1.1698159  1.63334531 1.03067452 1.67832773]\n",
      " [1.79144981 1.04618787 1.52756462 1.65624769 1.67054723]\n",
      " [1.54083243 1.86791797 1.08663991 1.22744976 1.9709257 ]\n",
      " [1.29786943 1.33021636 1.11883443 1.60006839 1.48216355]\n",
      " [1.58828497 1.21342679 1.65259388 1.37470186 1.00667497]\n",
      " [1.57384292 1.86963248 1.11293595 1.00575214 1.43917164]\n",
      " [1.7064587  1.27657438 1.37174375 1.78478217 1.03935515]\n",
      " [1.58694102 1.59545199 1.42582181 1.76390741 1.8041243 ]\n",
      " [1.13069411 1.34182757 1.01182057 1.14042405 1.32790862]\n",
      " [1.75077541 1.50926029 1.77107771 1.15434829 1.83476368]]\n",
      "\n",
      "\n",
      "           a         b         c         d         e\n",
      "0   1.597134  1.241959  1.270223  1.346978  1.905094\n",
      "1   1.473368  1.037296  1.629075  1.324585  1.150761\n",
      "2   1.906242  1.211919  1.144631  1.451790  1.756242\n",
      "3   1.338139  1.306236  1.355513  1.204095  1.738245\n",
      "4   1.921171  1.407834  1.512280  1.594352  1.673658\n",
      "5   1.890227  1.255639  1.633405  1.863518  1.012450\n",
      "6   1.577253  1.916119  1.435619  1.058792  1.519422\n",
      "7   1.167726  1.334742  1.450891  1.550833  1.264356\n",
      "8   1.339183  1.036781  1.710402  1.060926  1.467240\n",
      "9   1.934450  1.351488  1.442037  1.062905  1.892770\n",
      "10  1.119644  1.169816  1.633345  1.030675  1.678328\n",
      "11  1.791450  1.046188  1.527565  1.656248  1.670547\n",
      "12  1.540832  1.867918  1.086640  1.227450  1.970926\n",
      "13  1.297869  1.330216  1.118834  1.600068  1.482164\n",
      "14  1.588285  1.213427  1.652594  1.374702  1.006675\n",
      "15  1.573843  1.869632  1.112936  1.005752  1.439172\n",
      "16  1.706459  1.276574  1.371744  1.784782  1.039355\n",
      "17  1.586941  1.595452  1.425822  1.763907  1.804124\n",
      "18  1.130694  1.341828  1.011821  1.140424  1.327909\n",
      "19  1.750775  1.509260  1.771078  1.154348  1.834764\n",
      "\n",
      "\n",
      "a    0.263680\n",
      "b    0.264528\n",
      "c    0.227712\n",
      "d    0.278956\n",
      "e    0.311524\n",
      "dtype: float64\n",
      "\n",
      "\n",
      "a  :  0.31152444685009134\n",
      "17 :  1.190534984972998\n"
     ]
    }
   ],
   "source": [
    "# Question 10\n",
    "import numpy as np\n",
    "import pandas as pd\n",
    "from numpy import random\n",
    "\n",
    "matrix = np.random.uniform(1,2 , size=(20,5))\n",
    "print(matrix)\n",
    "print('\\n')\n",
    "col = ['a','b','c','d','e']\n",
    "\n",
    "df = pd.DataFrame(data = matrix, columns = col)\n",
    "print(df)\n",
    "print('\\n')\n",
    "\n",
    "std_dev_df= df.std()\n",
    "print(std_dev_df)\n",
    "print('\\n')\n",
    "max_std_dev = max(std_dev_df)\n",
    "print(\"column with highest std. deviation is \",col[np.argmax(max_std_dev)], \" : \",max_std_dev)\n",
    "\n",
    "lowest_mean_df = df.mean(axis=1)\n",
    "print(lowest_mean_df)\n",
    "print('\\n')\n",
    "min_mean = min(lowest_mean_df)\n",
    "row_num = np.argmax(lowest_mean_df)\n",
    "\n",
    "print(\"the row with the lowest mean\",row_num,\": \", min_mean)\n",
    "\n",
    "# print(std_dev_df)\n",
    "# print(lowest_mean_df)\n"
   ]
  },
  {
   "cell_type": "code",
   "execution_count": 3,
   "metadata": {},
   "outputs": [
    {
     "name": "stdout",
     "output_type": "stream",
     "text": [
      "           a         b         c         d         e         f\n",
      "0   1.016936  1.648047  1.065403  1.900802  1.421415  7.052604\n",
      "1   1.292324  1.207990  1.688996  1.562683  1.848035  7.600028\n",
      "2   1.419669  1.020617  1.393298  1.069245  1.839683  6.742512\n",
      "3   1.013679  1.391040  1.102556  1.414585  1.201673  6.123533\n",
      "4   1.634908  1.213220  1.350548  1.425719  1.407927  7.032322\n",
      "5   1.588339  1.916913  1.191753  1.775507  1.172656  7.645167\n",
      "6   1.199395  1.838058  1.782604  1.526207  1.498567  7.844832\n",
      "7   1.398713  1.959187  1.634382  1.643207  1.311672  7.947161\n",
      "8   1.535740  1.602804  1.404554  1.748423  1.815484  8.107004\n",
      "9   1.371634  1.716343  1.672254  1.623800  1.011349  7.395380\n",
      "10  1.671216  1.071661  1.871490  1.810217  1.846168  8.270751\n",
      "11  1.441323  1.754870  1.968468  1.059601  1.848858  8.073120\n",
      "12  1.134120  1.596074  1.954688  1.769456  1.905423  8.359762\n",
      "13  1.609641  1.812818  1.501251  1.112367  1.351196  7.387274\n",
      "14  1.458035  1.195069  1.187225  1.430981  1.296285  6.567594\n",
      "15  1.724632  1.279043  1.170198  1.164663  1.080457  6.418994\n",
      "16  1.193287  1.552039  1.160104  1.139285  1.225440  6.270155\n",
      "17  1.386733  1.515942  1.987322  1.367322  1.072722  7.330042\n",
      "18  1.537578  1.077572  1.409598  1.208745  1.922215  7.155708\n",
      "19  1.433074  1.073791  1.099607  1.563135  1.123101  6.292708\n",
      "\n",
      "\n",
      "           a         b         c         d         e         f    g\n",
      "0   1.016936  1.648047  1.065403  1.900802  1.421415  7.052604  LT8\n",
      "1   1.292324  1.207990  1.688996  1.562683  1.848035  7.600028  LT8\n",
      "2   1.419669  1.020617  1.393298  1.069245  1.839683  6.742512  LT8\n",
      "3   1.013679  1.391040  1.102556  1.414585  1.201673  6.123533  LT8\n",
      "4   1.634908  1.213220  1.350548  1.425719  1.407927  7.032322  LT8\n",
      "5   1.588339  1.916913  1.191753  1.775507  1.172656  7.645167  LT8\n",
      "6   1.199395  1.838058  1.782604  1.526207  1.498567  7.844832  LT8\n",
      "7   1.398713  1.959187  1.634382  1.643207  1.311672  7.947161  LT8\n",
      "8   1.535740  1.602804  1.404554  1.748423  1.815484  8.107004  GT8\n",
      "9   1.371634  1.716343  1.672254  1.623800  1.011349  7.395380  LT8\n",
      "10  1.671216  1.071661  1.871490  1.810217  1.846168  8.270751  GT8\n",
      "11  1.441323  1.754870  1.968468  1.059601  1.848858  8.073120  GT8\n",
      "12  1.134120  1.596074  1.954688  1.769456  1.905423  8.359762  GT8\n",
      "13  1.609641  1.812818  1.501251  1.112367  1.351196  7.387274  LT8\n",
      "14  1.458035  1.195069  1.187225  1.430981  1.296285  6.567594  LT8\n",
      "15  1.724632  1.279043  1.170198  1.164663  1.080457  6.418994  LT8\n",
      "16  1.193287  1.552039  1.160104  1.139285  1.225440  6.270155  LT8\n",
      "17  1.386733  1.515942  1.987322  1.367322  1.072722  7.330042  LT8\n",
      "18  1.537578  1.077572  1.409598  1.208745  1.922215  7.155708  LT8\n",
      "19  1.433074  1.073791  1.099607  1.563135  1.123101  6.292708  LT8\n",
      "\n",
      "\n",
      "std. deviation of GT8 and LT8 are resp. :  0.11752444203009146 0.5690885845691969\n"
     ]
    }
   ],
   "source": [
    "# Question 11\n",
    "import numpy as np\n",
    "import pandas as pd\n",
    "from numpy import random\n",
    "\n",
    "matrix = np.random.uniform(1,2 , size=(20,5))\n",
    "col = ['a','b','c','d','e']\n",
    "df = pd.DataFrame(data = matrix, columns = col)\n",
    "\n",
    "# adding column 'f' \n",
    "new_col = df['a']+df['b']+df['c']+df['d']+df['e']\n",
    "df.insert(5,\"f\",new_col,True)\n",
    "print(df)\n",
    "print('\\n')\n",
    "\n",
    "# adding column 'g'\n",
    "col_g=list()\n",
    "li_LT8 = list()\n",
    "li_GT8 = list()\n",
    "for x in  df[\"f\"].values:\n",
    "    if(x < 8):\n",
    "        col_g.append(\"LT8\")\n",
    "        li_LT8.append(x)\n",
    "    else:\n",
    "        col_g.append(\"GT8\")\n",
    "        li_GT8.append(x)\n",
    "\n",
    "df.insert(6,\"g\",col_g,True)\n",
    "print(df)\n",
    "print('\\n')\n",
    "\n",
    "# number of rows in the dataframe where the value in the column “g” is “LT8”.\n",
    "# cnt = df['g'].value_counts()[\"LT8\"]\n",
    "Garr = np.array(li_GT8)\n",
    "Larr = np.array(li_LT8)\n",
    "\n",
    "Gstd_dev = Garr.std()\n",
    "Lstd_dev = Larr.std()\n",
    "\n",
    "print(\"std. deviation of GT8 and LT8 are resp. : \",Gstd_dev,Lstd_dev)\n"
   ]
  },
  {
   "cell_type": "code",
   "execution_count": 25,
   "metadata": {},
   "outputs": [
    {
     "name": "stdout",
     "output_type": "stream",
     "text": [
      "[[    5    20    45    80]\n",
      " [   50   200   450   800]\n",
      " [  500  2000  4500  8000]\n",
      " [ 5000 20000 45000 80000]]\n"
     ]
    }
   ],
   "source": [
    "# Question 12\n",
    "# broadcasting in numpy using array\n",
    "# we will apply multiplication of two arrays of different dimensions\n",
    "\n",
    "import numpy as np \n",
    "\n",
    "a = np.array([[1,2,3,4],[10,20,30,40],[100,200,300,400],[1000,2000,3000,4000]]) \n",
    "b = np.array([5,10,15,20])\n",
    "\n",
    "print (a*b)"
   ]
  },
  {
   "cell_type": "code",
   "execution_count": null,
   "metadata": {},
   "outputs": [],
   "source": [
    "Question 4\n",
    "\n",
    "y' is differential of y wrt to x and similarly for x' \n",
    "\n",
    "gradient wrt x = 2xy  + (cos(x))y3\n",
    "\n",
    "gradient wrt y = x2  + (3y2)sin(x) "
   ]
  },
  {
   "cell_type": "code",
   "execution_count": 1,
   "metadata": {},
   "outputs": [
    {
     "name": "stdout",
     "output_type": "stream",
     "text": [
      "2*x*y + y**3*cos(x) (i) +  x**2 + 3*y**2*sin(x) (j)\n"
     ]
    }
   ],
   "source": [
    "# Question 6 - Use sympy to confirm that you obtain the same gradient analytically.\n",
    "\n",
    "from sympy import diff, sin\n",
    "from sympy.abc import x,y\n",
    "\n",
    "exp = (x**2)*y + (y**3)*sin(x)\n",
    "\n",
    "def gradient_fun(exp):\n",
    "    dexp_x = diff(exp,x)\n",
    "    dexp_y = diff(exp,y)\n",
    "    print(dexp_x,\"(i) + \",dexp_y,\"(j)\")\n",
    "    \n",
    "gradient_fun(exp)    \n"
   ]
  },
  {
   "cell_type": "code",
   "execution_count": null,
   "metadata": {},
   "outputs": [],
   "source": [
    "# Question 13\n",
    "import numpy as np\n",
    "import random\n",
    "\n",
    "def minele_ind(list):\n",
    "    minimum = list[0]\n",
    "    ind = 0\n",
    "    for i in range(len(list)):\n",
    "        if list[i]<minimum:\n",
    "            minimum=list[i]\n",
    "            ind=i\n",
    "    return ind\n",
    "\n",
    "list = []\n",
    "\n",
    "for i in range(10):\n",
    "    list.append(random.randint(1,100))\n",
    "print(list)\n",
    " \n",
    "numpy_array = np.array(list) \n",
    "\n",
    "# using inbuilt function to check\n",
    "argmin = numpy_array.argmin()\n",
    "\n",
    "print(\"Index using np.argmin is \", argmin)\n",
    "print(\"Index using minele_ind is \", minele_ind(list))"
   ]
  },
  {
   "cell_type": "code",
   "execution_count": null,
   "metadata": {},
   "outputs": [],
   "source": []
  }
 ],
 "metadata": {
  "kernelspec": {
   "display_name": "Python 3",
   "language": "python",
   "name": "python3"
  },
  "language_info": {
   "codemirror_mode": {
    "name": "ipython",
    "version": 3
   },
   "file_extension": ".py",
   "mimetype": "text/x-python",
   "name": "python",
   "nbconvert_exporter": "python",
   "pygments_lexer": "ipython3",
   "version": "3.7.6"
  }
 },
 "nbformat": 4,
 "nbformat_minor": 4
}
